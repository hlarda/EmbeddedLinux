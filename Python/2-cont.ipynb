{
 "cells": [
  {
   "cell_type": "markdown",
   "metadata": {},
   "source": [
    "# dictionary \n",
    "   1. dic = {\n",
    "        \"key\": \"value\"\n",
    "    }\n",
    "\n",
    "   2. value: of any type(another dictionary, list, string, aaaa)\n",
    "\n",
    "    3. no duplicate members"
   ]
  },
  {
   "cell_type": "code",
   "execution_count": 2,
   "metadata": {},
   "outputs": [
    {
     "name": "stdout",
     "output_type": "stream",
     "text": [
      "{'brand': 'Ford', 'model': 'Mustang', 'year': 1964, 'colors': ['red', 'white', 'blue']}\n",
      "<class 'dict'>\n",
      "4\n",
      "<built-in method values of dict object at 0x000001E9574379C0>\n",
      "<built-in method keys of dict object at 0x000001E9574379C0>\n",
      "<built-in method items of dict object at 0x000001E9574379C0>\n",
      "Ford\n",
      "1964\n",
      "2018\n",
      "Mustang\n",
      "['red', 'white', 'blue']\n"
     ]
    }
   ],
   "source": [
    "dict={\n",
    "    \"brand\":\"Ford\",\n",
    "    \"model\":\"Mustang\",\n",
    "    \"year\":1964,\n",
    "    \"colors\":[\"red\",\"white\",\"blue\"]\n",
    "}\n",
    "\n",
    "print(dict)\n",
    "print(type(dict))\n",
    "print(len(dict))\n",
    "print(dict.values)\n",
    "print(dict.keys)\n",
    "print(dict.items)\n",
    "print(dict[\"brand\"])\n",
    "print(dict[\"year\"])\n",
    "dict[\"year\"]=2018\n",
    "print(dict[\"year\"])\n",
    "print(dict.get(\"model\"))\n",
    "print(dict[\"colors\"])  "
   ]
  },
  {
   "cell_type": "markdown",
   "metadata": {},
   "source": [
    "# set {}\n",
    "    1. unordered, mutable(changeabl) and dont allow duplicated values\n",
    "\n",
    "    2. uses hash taple makes it faster and more secure"
   ]
  },
  {
   "cell_type": "code",
   "execution_count": 3,
   "metadata": {},
   "outputs": [
    {
     "name": "stdout",
     "output_type": "stream",
     "text": [
      "{'apple', 'cherry', 'banana'}\n",
      "<class 'set'>\n",
      "3\n"
     ]
    }
   ],
   "source": [
    "set = {\"apple\",\"banana\",\"cherry\"}\n",
    "print(set)\n",
    "print(type(set))\n",
    "print(len(set))"
   ]
  },
  {
   "cell_type": "markdown",
   "metadata": {},
   "source": [
    "# Range"
   ]
  },
  {
   "cell_type": "code",
   "execution_count": 10,
   "metadata": {},
   "outputs": [
    {
     "name": "stdout",
     "output_type": "stream",
     "text": [
      "0 1 2 3 4 5 6 7 8 9 \n",
      "\n",
      "0 2 4 6 8 "
     ]
    }
   ],
   "source": [
    "for i in range(10):\n",
    "    print(i,end=\" \")\n",
    "print(\"\\n\")\n",
    "for i in range(0,10,2):\n",
    "    print(i,end=\" \")"
   ]
  },
  {
   "cell_type": "markdown",
   "metadata": {},
   "source": [
    "|List[]             | Dictionary{}  |   Tuple() | Set{}      |\n",
    "|------------------ |---------------|-----------|------------|\n",
    "|ordered            |not ordered    |orderd     |not ordered |\n",
    "|mutable            |mutable        |immutable  |mutable     |\n",
    "|duplicated members |unduplicable   |duplicable |unduplicable|\n",
    "|indexed            |indexed        |indexed    |not indexed |"
   ]
  },
  {
   "cell_type": "markdown",
   "metadata": {},
   "source": [
    "# convert string to list"
   ]
  },
  {
   "cell_type": "code",
   "execution_count": 11,
   "metadata": {},
   "outputs": [
    {
     "name": "stdout",
     "output_type": "stream",
     "text": [
      "Hello World\n",
      "['H', 'e', 'l', 'l', 'o', ' ', 'W', 'o', 'r', 'l', 'd']\n"
     ]
    }
   ],
   "source": [
    "name=\"Hello World\"\n",
    "print(name)\n",
    "print(list(name))"
   ]
  },
  {
   "cell_type": "markdown",
   "metadata": {},
   "source": [
    "# input\n",
    "    int() for type validation"
   ]
  },
  {
   "cell_type": "code",
   "execution_count": 17,
   "metadata": {},
   "outputs": [
    {
     "name": "stdout",
     "output_type": "stream",
     "text": [
      "the value is 20\n",
      "the value is 20\n",
      "the value is 20\n",
      "the value is 20\n",
      "the value is 20\n"
     ]
    }
   ],
   "source": [
    "x=int(input(\"Enter a number: \"))\n",
    "print(f\"the value is {x}\")\n",
    "print(\"the value is {}\".format(x))\n",
    "print(\"the value is %d\" %x)\n",
    "print(\"the value is \"+str(x))\n",
    "print(\"the value is\",x)  #ONLY USED WITH PRINT FUNCTION"
   ]
  },
  {
   "cell_type": "code",
   "execution_count": 21,
   "metadata": {},
   "outputs": [
    {
     "name": "stdout",
     "output_type": "stream",
     "text": [
      "True\n",
      "True\n",
      "False\n"
     ]
    }
   ],
   "source": [
    "print(3>2 and 4>3)\n",
    "print(3>2 or 4>3)\n",
    "print(not 3>2)"
   ]
  }
 ],
 "metadata": {
  "kernelspec": {
   "display_name": "Python 3",
   "language": "python",
   "name": "python3"
  },
  "language_info": {
   "codemirror_mode": {
    "name": "ipython",
    "version": 3
   },
   "file_extension": ".py",
   "mimetype": "text/x-python",
   "name": "python",
   "nbconvert_exporter": "python",
   "pygments_lexer": "ipython3",
   "version": "3.11.8"
  }
 },
 "nbformat": 4,
 "nbformat_minor": 2
}
